{
 "cells": [
  {
   "cell_type": "code",
   "execution_count": 1,
   "metadata": {},
   "outputs": [],
   "source": [
    "import json\n",
    "from datetime import datetime\n",
    "\n",
    "import pandas as pd\n",
    "import numpy as np"
   ]
  },
  {
   "cell_type": "markdown",
   "metadata": {},
   "source": [
    "# ufo_all.json"
   ]
  },
  {
   "cell_type": "markdown",
   "metadata": {},
   "source": [
    "## Importing json file"
   ]
  },
  {
   "cell_type": "code",
   "execution_count": 2,
   "metadata": {},
   "outputs": [],
   "source": [
    "with open(\"ufo_all.json\") as f:\n",
    "    data = json.load(f)"
   ]
  },
  {
   "cell_type": "markdown",
   "metadata": {},
   "source": [
    "## Converting datetime"
   ]
  },
  {
   "cell_type": "code",
   "execution_count": 3,
   "metadata": {},
   "outputs": [],
   "source": [
    "def convertingDatetime():\n",
    "    convertion_errors = []\n",
    "    for i, record in enumerate(data):\n",
    "        #datetime_object = datetime.strptime(record[\"datetime\"], \"%d/%m/%Y %H:%M\")\n",
    "        if \"24:00\" in data[i][\"datetime\"]:\n",
    "            data[i][\"datetime\"] = data[i][\"datetime\"].replace(\"24:00\", \"00:00\")\n",
    "        \n",
    "        try:\n",
    "            datetime_object = datetime.strptime(record[\"datetime\"], \"%d/%m/%Y %H:%M\")\n",
    "            record[\"year\"] = datetime_object.year\n",
    "        except:\n",
    "            try:\n",
    "                datetime_object = datetime.strptime(record[\"datetime\"], \"%m/%d/%Y %H:%M\")\n",
    "                record[\"year\"] = datetime_object.year\n",
    "            except:\n",
    "                convertion_errors.append(i)\n",
    "    return convertion_errors"
   ]
  },
  {
   "cell_type": "markdown",
   "metadata": {},
   "source": [
    "## Dealing with errors"
   ]
  },
  {
   "cell_type": "code",
   "execution_count": 4,
   "metadata": {},
   "outputs": [
    {
     "data": {
      "text/plain": [
       "0"
      ]
     },
     "execution_count": 4,
     "metadata": {},
     "output_type": "execute_result"
    }
   ],
   "source": [
    "convertion_errors = convertingDatetime()\n",
    "len(convertion_errors)"
   ]
  },
  {
   "cell_type": "code",
   "execution_count": 5,
   "metadata": {
    "scrolled": true
   },
   "outputs": [],
   "source": [
    "for i in convertion_errors:\n",
    "    print(\"ID :\",i)\n",
    "    print(data[i][\"datetime\"])\n",
    "    print()"
   ]
  },
  {
   "cell_type": "markdown",
   "metadata": {},
   "source": [
    "## Creating new json file"
   ]
  },
  {
   "cell_type": "code",
   "execution_count": 6,
   "metadata": {},
   "outputs": [],
   "source": [
    "with open(\"ufo_all_preprocessed.json\", \"w\") as f:\n",
    "    json.dump(data, f, indent=4)"
   ]
  },
  {
   "cell_type": "markdown",
   "metadata": {},
   "source": [
    "# Creating freq_by_year file"
   ]
  },
  {
   "cell_type": "code",
   "execution_count": 3,
   "metadata": {},
   "outputs": [
    {
     "ename": "KeyError",
     "evalue": "'year'",
     "output_type": "error",
     "traceback": [
      "\u001b[0;31m---------------------------------------------------------------------------\u001b[0m",
      "\u001b[0;31mKeyError\u001b[0m                                  Traceback (most recent call last)",
      "\u001b[0;32m<ipython-input-3-9e84245aef9d>\u001b[0m in \u001b[0;36m<module>\u001b[0;34m()\u001b[0m\n\u001b[0;32m----> 1\u001b[0;31m \u001b[0mlist_of_years\u001b[0m \u001b[0;34m=\u001b[0m \u001b[0;34m[\u001b[0m\u001b[0melem\u001b[0m\u001b[0;34m[\u001b[0m\u001b[0;34m\"year\"\u001b[0m\u001b[0;34m]\u001b[0m \u001b[0;32mfor\u001b[0m \u001b[0melem\u001b[0m \u001b[0;32min\u001b[0m \u001b[0mdata\u001b[0m\u001b[0;34m]\u001b[0m\u001b[0;34m\u001b[0m\u001b[0m\n\u001b[0m\u001b[1;32m      2\u001b[0m \u001b[0mmin_year\u001b[0m \u001b[0;34m=\u001b[0m \u001b[0mmin\u001b[0m\u001b[0;34m(\u001b[0m\u001b[0mlist_of_years\u001b[0m\u001b[0;34m)\u001b[0m\u001b[0;34m\u001b[0m\u001b[0m\n\u001b[1;32m      3\u001b[0m \u001b[0mmax_year\u001b[0m \u001b[0;34m=\u001b[0m \u001b[0mmax\u001b[0m\u001b[0;34m(\u001b[0m\u001b[0mlist_of_years\u001b[0m\u001b[0;34m)\u001b[0m\u001b[0;34m\u001b[0m\u001b[0m\n\u001b[1;32m      4\u001b[0m \u001b[0;34m\u001b[0m\u001b[0m\n\u001b[1;32m      5\u001b[0m \u001b[0mfreq_by_year\u001b[0m \u001b[0;34m=\u001b[0m \u001b[0;34m{\u001b[0m\u001b[0;34m}\u001b[0m\u001b[0;34m\u001b[0m\u001b[0m\n",
      "\u001b[0;32m<ipython-input-3-9e84245aef9d>\u001b[0m in \u001b[0;36m<listcomp>\u001b[0;34m(.0)\u001b[0m\n\u001b[0;32m----> 1\u001b[0;31m \u001b[0mlist_of_years\u001b[0m \u001b[0;34m=\u001b[0m \u001b[0;34m[\u001b[0m\u001b[0melem\u001b[0m\u001b[0;34m[\u001b[0m\u001b[0;34m\"year\"\u001b[0m\u001b[0;34m]\u001b[0m \u001b[0;32mfor\u001b[0m \u001b[0melem\u001b[0m \u001b[0;32min\u001b[0m \u001b[0mdata\u001b[0m\u001b[0;34m]\u001b[0m\u001b[0;34m\u001b[0m\u001b[0m\n\u001b[0m\u001b[1;32m      2\u001b[0m \u001b[0mmin_year\u001b[0m \u001b[0;34m=\u001b[0m \u001b[0mmin\u001b[0m\u001b[0;34m(\u001b[0m\u001b[0mlist_of_years\u001b[0m\u001b[0;34m)\u001b[0m\u001b[0;34m\u001b[0m\u001b[0m\n\u001b[1;32m      3\u001b[0m \u001b[0mmax_year\u001b[0m \u001b[0;34m=\u001b[0m \u001b[0mmax\u001b[0m\u001b[0;34m(\u001b[0m\u001b[0mlist_of_years\u001b[0m\u001b[0;34m)\u001b[0m\u001b[0;34m\u001b[0m\u001b[0m\n\u001b[1;32m      4\u001b[0m \u001b[0;34m\u001b[0m\u001b[0m\n\u001b[1;32m      5\u001b[0m \u001b[0mfreq_by_year\u001b[0m \u001b[0;34m=\u001b[0m \u001b[0;34m{\u001b[0m\u001b[0;34m}\u001b[0m\u001b[0;34m\u001b[0m\u001b[0m\n",
      "\u001b[0;31mKeyError\u001b[0m: 'year'"
     ]
    }
   ],
   "source": [
    "list_of_years = [elem[\"year\"] for elem in data]\n",
    "min_year = min(list_of_years)\n",
    "max_year = max(list_of_years)\n",
    "\n",
    "freq_by_year = {}\n",
    "for y in range(min_year,max_year+1):\n",
    "    freq_by_year[y] = 0\n",
    "    \n",
    "for y in list_of_years:\n",
    "    freq_by_year[y] += 1"
   ]
  },
  {
   "cell_type": "code",
   "execution_count": 8,
   "metadata": {},
   "outputs": [],
   "source": [
    "liste_freq_by_year = np.empty((len(freq_by_year), 2), int)\n",
    "for k in range(0,len(freq_by_year)):\n",
    "    liste_freq_by_year[k,0] = min_year+k\n",
    "    liste_freq_by_year[k,1] = freq_by_year[min_year+k]\n",
    "\n",
    "DF_freq_by_year = pd.DataFrame(liste_freq_by_year, columns={\"year\", \"freq\"})\n",
    "DF_freq_by_year.to_csv(\"ufo_all_freq_by_year_youri.csv\")"
   ]
  },
  {
   "cell_type": "code",
   "execution_count": 9,
   "metadata": {},
   "outputs": [],
   "source": [
    "with open(\"ufo_all_freq_by_year.json\", \"w\") as f:\n",
    "    json.dump(freq_by_year, f, sort_keys=True, indent=4)"
   ]
  },
  {
   "cell_type": "markdown",
   "metadata": {},
   "source": [
    "# Creating freq_by_country file"
   ]
  },
  {
   "cell_type": "code",
   "execution_count": 4,
   "metadata": {},
   "outputs": [],
   "source": [
    "freq_by_country = {}\n",
    "for y in ['us', 'gb', 'ca', 'au', 'de', 'other']:\n",
    "    freq_by_country[y] = 0\n",
    "    \n",
    "for elem in data:\n",
    "    if elem[\"country\"] != \"\":\n",
    "        freq_by_country[elem[\"country\"]] += 1\n",
    "    else:\n",
    "        freq_by_country['other'] += 1"
   ]
  },
  {
   "cell_type": "code",
   "execution_count": 5,
   "metadata": {},
   "outputs": [],
   "source": [
    "with open(\"ufo_all_freq_by_country.json\", \"w\") as f:\n",
    "    json.dump(freq_by_country, f, sort_keys=True, indent=4)"
   ]
  },
  {
   "cell_type": "code",
   "execution_count": 6,
   "metadata": {},
   "outputs": [
    {
     "name": "stdout",
     "output_type": "stream",
     "text": [
      "['us', 'gb', 'ca', 'au', 'de', 'other']\n",
      "[65114, 1905, 3000, 538, 105, 9670]\n"
     ]
    }
   ],
   "source": [
    "# https://pythonspot.com/matplotlib-bar-chart/\n",
    "\n",
    "import numpy as np\n",
    "import matplotlib.pyplot as plt\n",
    "\n",
    "print(list(freq_by_country.keys()))\n",
    "print(list(freq_by_country.values()))\n",
    " \n",
    "objects = list(freq_by_country.keys())\n",
    "y_pos = np.arange(len(objects))\n",
    "valueurs = list(freq_by_country.values())\n",
    "\n",
    "plt.figure(figsize=(10,10))\n",
    "plt.bar(y_pos, valueurs, align='center', alpha=0.5)\n",
    "plt.xticks(y_pos, objects)\n",
    "plt.ylabel('Nombre d\\'observations')\n",
    "plt.xlabel('Pays')\n",
    "plt.title('Histogramme pour la fréquence par pays (dataset all)')\n",
    "plt.savefig('Figures/freq_par_pays_all.jpg', quality=100)"
   ]
  },
  {
   "cell_type": "markdown",
   "metadata": {},
   "source": [
    "# Creating fred_by_us_state file"
   ]
  },
  {
   "cell_type": "code",
   "execution_count": 13,
   "metadata": {},
   "outputs": [],
   "source": [
    "with open(\"us_states.json\") as f:\n",
    "    us_states = json.load(f)"
   ]
  },
  {
   "cell_type": "code",
   "execution_count": 14,
   "metadata": {},
   "outputs": [],
   "source": [
    "freq_by_state = {}\n",
    "for s in us_states.values():\n",
    "    freq_by_state[s] = 0\n",
    "\n",
    "for elem in [e for e in data if e[\"country\"] == \"us\"]:\n",
    "    try:\n",
    "        freq_by_state[us_states[elem[\"state\"].upper()]] += 1\n",
    "    except:\n",
    "        print(elem,\"not in us_states_dict\")"
   ]
  },
  {
   "cell_type": "code",
   "execution_count": 15,
   "metadata": {},
   "outputs": [],
   "source": [
    "with open(\"us_states_geo.json\") as f:\n",
    "    us_states_geo = json.load(f)"
   ]
  },
  {
   "cell_type": "code",
   "execution_count": 16,
   "metadata": {},
   "outputs": [],
   "source": [
    "for i, elem in enumerate(us_states_geo[\"features\"]):\n",
    "    us_states_geo[\"features\"][i][\"properties\"][\"frequency\"] = freq_by_state[elem[\"properties\"][\"name\"]]"
   ]
  },
  {
   "cell_type": "code",
   "execution_count": 17,
   "metadata": {},
   "outputs": [],
   "source": [
    "with open(\"ufo_all_freq_by_us_state.json\", \"w\") as f:\n",
    "    json.dump(us_states_geo, f, sort_keys=False, indent=4)"
   ]
  },
  {
   "cell_type": "code",
   "execution_count": 18,
   "metadata": {},
   "outputs": [
    {
     "data": {
      "text/plain": [
       "{'Alabama': 642,\n",
       " 'Alaska': 319,\n",
       " 'American Samoa': 0,\n",
       " 'Arizona': 2414,\n",
       " 'Arkansas': 588,\n",
       " 'California': 8912,\n",
       " 'Colorado': 1413,\n",
       " 'Connecticut': 892,\n",
       " 'Delaware': 166,\n",
       " 'District of Columbia': 7,\n",
       " 'Federated States Of Micronesia': 0,\n",
       " 'Florida': 3835,\n",
       " 'Georgia': 1255,\n",
       " 'Guam': 0,\n",
       " 'Hawaii': 262,\n",
       " 'Idaho': 521,\n",
       " 'Illinois': 2499,\n",
       " 'Indiana': 1288,\n",
       " 'Iowa': 678,\n",
       " 'Kansas': 613,\n",
       " 'Kentucky': 855,\n",
       " 'Louisiana': 558,\n",
       " 'Maine': 558,\n",
       " 'Marshall Islands': 0,\n",
       " 'Maryland': 837,\n",
       " 'Massachusetts': 1256,\n",
       " 'Michigan': 1836,\n",
       " 'Minnesota': 1012,\n",
       " 'Mississippi': 375,\n",
       " 'Missouri': 1458,\n",
       " 'Montana': 478,\n",
       " 'Nebraska': 381,\n",
       " 'Nevada': 803,\n",
       " 'New Hampshire': 486,\n",
       " 'New Jersey': 1255,\n",
       " 'New Mexico': 720,\n",
       " 'New York': 2980,\n",
       " 'North Carolina': 1740,\n",
       " 'North Dakota': 129,\n",
       " 'Northern Mariana Islands': 0,\n",
       " 'Ohio': 2275,\n",
       " 'Oklahoma': 724,\n",
       " 'Oregon': 1747,\n",
       " 'Palau': 0,\n",
       " 'Pennsylvania': 2366,\n",
       " 'Puerto Rico': 25,\n",
       " 'Rhode Island': 228,\n",
       " 'South Carolina': 1003,\n",
       " 'South Dakota': 183,\n",
       " 'Tennessee': 1119,\n",
       " 'Texas': 3447,\n",
       " 'Utah': 622,\n",
       " 'Vermont': 260,\n",
       " 'Virgin Islands': 0,\n",
       " 'Virginia': 1273,\n",
       " 'Washington': 3966,\n",
       " 'West Virginia': 448,\n",
       " 'Wisconsin': 1232,\n",
       " 'Wyoming': 175}"
      ]
     },
     "execution_count": 18,
     "metadata": {},
     "output_type": "execute_result"
    }
   ],
   "source": [
    "freq_by_state"
   ]
  },
  {
   "cell_type": "code",
   "execution_count": 19,
   "metadata": {},
   "outputs": [],
   "source": [
    "with open(\"us_states_geo.json\") as f:\n",
    "    us_states_geo = json.load(f)"
   ]
  },
  {
   "cell_type": "code",
   "execution_count": 20,
   "metadata": {},
   "outputs": [
    {
     "name": "stdout",
     "output_type": "stream",
     "text": [
      "dict not in geo\n",
      "American Samoa\n",
      "Federated States Of Micronesia\n",
      "Guam\n",
      "Marshall Islands\n",
      "Virgin Islands\n",
      "Palau\n",
      "Northern Mariana Islands\n",
      "\n",
      "geo not in dict\n"
     ]
    }
   ],
   "source": [
    "list_states_geo = set([e[\"properties\"][\"name\"] for e in us_states_geo[\"features\"]])\n",
    "list_states_dict = set(us_states.values())\n",
    "\n",
    "print(\"dict not in geo\")\n",
    "for e in list_states_dict:\n",
    "    if e not in list_states_geo:\n",
    "        print(e)\n",
    "    \n",
    "print()\n",
    "print(\"geo not in dict\")\n",
    "for e in list_states_geo:\n",
    "    if e not in list_states_dict:\n",
    "        print(e)"
   ]
  },
  {
   "cell_type": "code",
   "execution_count": null,
   "metadata": {},
   "outputs": [],
   "source": [
    "us_states_geo"
   ]
  }
 ],
 "metadata": {
  "kernelspec": {
   "display_name": "Python 3",
   "language": "python",
   "name": "python3"
  },
  "language_info": {
   "codemirror_mode": {
    "name": "ipython",
    "version": 3
   },
   "file_extension": ".py",
   "mimetype": "text/x-python",
   "name": "python",
   "nbconvert_exporter": "python",
   "pygments_lexer": "ipython3",
   "version": "3.7.3"
  }
 },
 "nbformat": 4,
 "nbformat_minor": 2
}
