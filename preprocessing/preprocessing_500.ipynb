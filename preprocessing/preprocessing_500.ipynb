{
 "cells": [
  {
   "cell_type": "code",
   "execution_count": 1,
   "metadata": {},
   "outputs": [],
   "source": [
    "import json\n",
    "from datetime import datetime\n",
    "\n",
    "import pandas as pd\n",
    "import numpy as np"
   ]
  },
  {
   "cell_type": "markdown",
   "metadata": {},
   "source": [
    "# ufo_500.json"
   ]
  },
  {
   "cell_type": "markdown",
   "metadata": {},
   "source": [
    "## Importing json file"
   ]
  },
  {
   "cell_type": "code",
   "execution_count": 2,
   "metadata": {},
   "outputs": [],
   "source": [
    "with open(\"ufo_500.json\") as f:\n",
    "    data = json.load(f)"
   ]
  },
  {
   "cell_type": "markdown",
   "metadata": {},
   "source": [
    "## Converting datetime"
   ]
  },
  {
   "cell_type": "code",
   "execution_count": 3,
   "metadata": {},
   "outputs": [],
   "source": [
    "convertion_errors = []\n",
    "for i, record in enumerate(data):\n",
    "    #datetime_object = datetime.strptime(record[\"datetime\"], \"%d/%m/%Y %H:%M\")\n",
    "    try:\n",
    "        datetime_object = datetime.strptime(record[\"datetime\"], \"%d/%m/%Y %H:%M\")\n",
    "        record[\"year\"] = datetime_object.year\n",
    "    except:\n",
    "        convertion_errors.append(i)"
   ]
  },
  {
   "cell_type": "markdown",
   "metadata": {},
   "source": [
    "## Dealing with errors"
   ]
  },
  {
   "cell_type": "code",
   "execution_count": 4,
   "metadata": {},
   "outputs": [
    {
     "name": "stdout",
     "output_type": "stream",
     "text": [
      "ID : 388\n",
      "10/11/2006 24:00\n",
      "\n"
     ]
    }
   ],
   "source": [
    "for i in convertion_errors:\n",
    "    print(\"ID :\",i)\n",
    "    print(data[i][\"datetime\"])\n",
    "    print()"
   ]
  },
  {
   "cell_type": "code",
   "execution_count": 5,
   "metadata": {},
   "outputs": [],
   "source": [
    "data[388][\"datetime\"] = \"10/11/2006 00:00\"\n",
    "data[388][\"year\"] = 2006"
   ]
  },
  {
   "cell_type": "markdown",
   "metadata": {},
   "source": [
    "## Creating new json file"
   ]
  },
  {
   "cell_type": "code",
   "execution_count": 6,
   "metadata": {},
   "outputs": [],
   "source": [
    "with open(\"ufo_500_preprocessed.json\", \"w\") as f:\n",
    "    json.dump(data, f, indent=4)"
   ]
  },
  {
   "cell_type": "markdown",
   "metadata": {},
   "source": [
    "## Creating freq_by_year file"
   ]
  },
  {
   "cell_type": "code",
   "execution_count": 7,
   "metadata": {},
   "outputs": [],
   "source": [
    "list_of_years = [elem[\"year\"] for elem in data]\n",
    "min_year = min(list_of_years)\n",
    "max_year = max(list_of_years)\n",
    "\n",
    "freq_by_year = {}\n",
    "for y in range(min_year,max_year+1):\n",
    "    freq_by_year[y] = 0\n",
    "    \n",
    "for y in list_of_years:\n",
    "    freq_by_year[y] += 1"
   ]
  },
  {
   "cell_type": "code",
   "execution_count": 8,
   "metadata": {},
   "outputs": [],
   "source": [
    "liste_freq_by_year = np.empty((len(freq_by_year), 2), int)\n",
    "for k in range(0,len(freq_by_year)):\n",
    "    liste_freq_by_year[k,0] = min_year+k\n",
    "    liste_freq_by_year[k,1] = freq_by_year[min_year+k]\n",
    "\n",
    "DF_freq_by_year = pd.DataFrame(liste_freq_by_year, columns={\"year\", \"freq\"})\n",
    "DF_freq_by_year.to_csv(\"ufo_500_freq_by_year_youri.csv\")"
   ]
  },
  {
   "cell_type": "code",
   "execution_count": 9,
   "metadata": {},
   "outputs": [],
   "source": [
    "with open(\"ufo_500_freq_by_year.json\", \"w\") as f:\n",
    "    json.dump(freq_by_year, f, sort_keys=True, indent=4)"
   ]
  },
  {
   "cell_type": "markdown",
   "metadata": {},
   "source": [
    "## Creating freq_by_country file"
   ]
  },
  {
   "cell_type": "code",
   "execution_count": 10,
   "metadata": {},
   "outputs": [],
   "source": [
    "freq_by_country = {}\n",
    "for c in ['us', 'gb', 'ca', 'au', 'other']:\n",
    "    freq_by_country[c] = 0\n",
    "    \n",
    "for elem in data:\n",
    "    if elem[\"country\"] != \"\":\n",
    "        freq_by_country[elem[\"country\"]] += 1\n",
    "    else:\n",
    "        freq_by_country['other'] += 1"
   ]
  },
  {
   "cell_type": "code",
   "execution_count": 11,
   "metadata": {},
   "outputs": [],
   "source": [
    "with open(\"ufo_500_freq_by_country.json\", \"w\") as f:\n",
    "    json.dump(freq_by_country, f, sort_keys=True, indent=4)"
   ]
  },
  {
   "cell_type": "code",
   "execution_count": 47,
   "metadata": {},
   "outputs": [
    {
     "name": "stdout",
     "output_type": "stream",
     "text": [
      "['us', 'gb', 'ca', 'au', 'other']\n",
      "[411, 14, 17, 3, 55]\n"
     ]
    },
    {
     "data": {
      "image/png": "[encoded data removed]",
      "text/plain": [
       "<Figure size 720x720 with 1 Axes>"
      ]
     },
     "metadata": {},
     "output_type": "display_data"
    }
   ],
   "source": [
    "# https://pythonspot.com/matplotlib-bar-chart/\n",
    "\n",
    "import numpy as np\n",
    "import matplotlib.pyplot as plt\n",
    "\n",
    "print(list(freq_by_country.keys()))\n",
    "print(list(freq_by_country.values()))\n",
    " \n",
    "objects = list(freq_by_country.keys())\n",
    "y_pos = np.arange(len(objects))\n",
    "valueurs = list(freq_by_country.values())\n",
    "\n",
    "plt.figure(figsize=(10,10))\n",
    "plt.bar(y_pos, valueurs, align='center', alpha=0.5)\n",
    "plt.xticks(y_pos, objects)\n",
    "plt.ylabel('Nombre d\\'observations')\n",
    "plt.xlabel('Pays')\n",
    "plt.title('Histogramme pour la fréquence par pays (dataset de 500)')\n",
    "plt.savefig('Figures/freq_par_pays_500.jpg', quality=100)"
   ]
  },
  {
   "cell_type": "markdown",
   "metadata": {},
   "source": [
    "# Creating fred_by_us_state file"
   ]
  },
  {
   "cell_type": "code",
   "execution_count": null,
   "metadata": {},
   "outputs": [],
   "source": [
    "with open(\"us_states.json\") as f:\n",
    "    us_states = json.load(f)\n",
    "    \n",
    "freq_by_state = {}\n",
    "for s in us_states.keys():\n",
    "    freq_by_state[s] = 0\n",
    "\n",
    "for elem in data:\n",
    "    if elem[\"country\"] == \"us\" and elem[\"state\"].upper() in us_states.keys():\n",
    "        freq_by_state[elem[\"state\"].upper()] += 1\n",
    "    elif elem[\"country\"] == \"us\" and elem[\"country\"] not in us_states:\n",
    "        print(elem)"
   ]
  },
  {
   "cell_type": "code",
   "execution_count": null,
   "metadata": {},
   "outputs": [],
   "source": [
    "with open(\"ufo_500_freq_by_us_state.json\", \"w\") as f:\n",
    "    json.dump(freq_by_state, f, sort_keys=True, indent=4)"
   ]
  }
 ],
 "metadata": {
  "kernelspec": {
   "display_name": "Python 3",
   "language": "python",
   "name": "python3"
  },
  "language_info": {
   "codemirror_mode": {
    "name": "ipython",
    "version": 3
   },
   "file_extension": ".py",
   "mimetype": "text/x-python",
   "name": "python",
   "nbconvert_exporter": "python",
   "pygments_lexer": "ipython3",
   "version": "3.7.3"
  }
 },
 "nbformat": 4,
 "nbformat_minor": 2
}
