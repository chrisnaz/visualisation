{
 "cells": [
  {
   "cell_type": "code",
   "execution_count": 1,
   "metadata": {},
   "outputs": [],
   "source": [
    "import json\n",
    "from datetime import datetime\n",
    "\n",
    "\n",
    "import pandas as pd\n",
    "import numpy as np"
   ]
  },
  {
   "cell_type": "markdown",
   "metadata": {},
   "source": [
    "# ufo_3000.json"
   ]
  },
  {
   "cell_type": "markdown",
   "metadata": {},
   "source": [
    "## Importing json file"
   ]
  },
  {
   "cell_type": "code",
   "execution_count": 2,
   "metadata": {},
   "outputs": [],
   "source": [
    "with open(\"ufo_3000.json\") as f:\n",
    "    data = json.load(f)"
   ]
  },
  {
   "cell_type": "markdown",
   "metadata": {},
   "source": [
    "## Converting datetime"
   ]
  },
  {
   "cell_type": "code",
   "execution_count": 3,
   "metadata": {},
   "outputs": [],
   "source": [
    "def convertingDatetime():\n",
    "    convertion_errors = []\n",
    "    for i, record in enumerate(data):\n",
    "        #datetime_object = datetime.strptime(record[\"datetime\"], \"%d/%m/%Y %H:%M\")\n",
    "        if \"24:00\" in data[i][\"datetime\"]:\n",
    "            data[i][\"datetime\"] = data[i][\"datetime\"].replace(\"24:00\", \"00:00\")\n",
    "        \n",
    "        try:\n",
    "            datetime_object = datetime.strptime(record[\"datetime\"], \"%d/%m/%Y %H:%M\")\n",
    "            record[\"year\"] = datetime_object.year\n",
    "        except:\n",
    "            try:\n",
    "                datetime_object = datetime.strptime(record[\"datetime\"], \"%m/%d/%Y %H:%M\")\n",
    "                record[\"year\"] = datetime_object.year\n",
    "            except:\n",
    "                convertion_errors.append(i)\n",
    "    return convertion_errors"
   ]
  },
  {
   "cell_type": "markdown",
   "metadata": {},
   "source": [
    "## Dealing with errors"
   ]
  },
  {
   "cell_type": "code",
   "execution_count": 4,
   "metadata": {},
   "outputs": [
    {
     "data": {
      "text/plain": [
       "0"
      ]
     },
     "execution_count": 4,
     "metadata": {},
     "output_type": "execute_result"
    }
   ],
   "source": [
    "convertion_errors = convertingDatetime()\n",
    "len(convertion_errors)"
   ]
  },
  {
   "cell_type": "code",
   "execution_count": 5,
   "metadata": {
    "scrolled": true
   },
   "outputs": [],
   "source": [
    "for i in convertion_errors:\n",
    "    print(\"ID :\",i)\n",
    "    print(data[i][\"datetime\"])\n",
    "    print()"
   ]
  },
  {
   "cell_type": "markdown",
   "metadata": {},
   "source": [
    "## Creating new json file"
   ]
  },
  {
   "cell_type": "code",
   "execution_count": 6,
   "metadata": {},
   "outputs": [],
   "source": [
    "with open(\"ufo_3000_preprocessed.json\", \"w\") as f:\n",
    "    json.dump(data, f, indent=4)"
   ]
  },
  {
   "cell_type": "markdown",
   "metadata": {},
   "source": [
    "# Creating freq_by_year file"
   ]
  },
  {
   "cell_type": "code",
   "execution_count": 7,
   "metadata": {},
   "outputs": [],
   "source": [
    "list_of_years = [elem[\"year\"] for elem in data]\n",
    "min_year = min(list_of_years)\n",
    "max_year = max(list_of_years)\n",
    "\n",
    "freq_by_year = {}\n",
    "for y in range(min_year,max_year+1):\n",
    "    freq_by_year[y] = 0\n",
    "    \n",
    "for y in list_of_years:\n",
    "    freq_by_year[y] += 1"
   ]
  },
  {
   "cell_type": "code",
   "execution_count": 14,
   "metadata": {},
   "outputs": [],
   "source": [
    "liste_freq_by_year = np.empty((len(freq_by_year), 2), int)\n",
    "for k in range(0,len(freq_by_year)):\n",
    "    liste_freq_by_year[k,0] = min_year+k\n",
    "    liste_freq_by_year[k,1] = freq_by_year[min_year+k]\n",
    "\n",
    "DF_freq_by_year = pd.DataFrame(liste_freq_by_year, columns={\"year\", \"freq\"})\n",
    "DF_freq_by_year.to_csv(\"ufo_3000_freq_by_year_youri.csv\")"
   ]
  },
  {
   "cell_type": "code",
   "execution_count": 9,
   "metadata": {},
   "outputs": [],
   "source": [
    "with open(\"ufo_3000_freq_by_year.json\", \"w\") as f:\n",
    "    json.dump(freq_by_year, f, sort_keys=True, indent=4)"
   ]
  },
  {
   "cell_type": "markdown",
   "metadata": {},
   "source": [
    "# Creating freq_by_country file"
   ]
  },
  {
   "cell_type": "code",
   "execution_count": 4,
   "metadata": {},
   "outputs": [],
   "source": [
    "freq_by_country = {}\n",
    "for y in ['us', 'gb', 'ca', 'au', 'de', 'other']:\n",
    "    freq_by_country[y] = 0\n",
    "    \n",
    "for elem in data:\n",
    "    if elem[\"country\"] != \"\":\n",
    "        freq_by_country[elem[\"country\"]] += 1\n",
    "    else:\n",
    "        freq_by_country['other'] += 1"
   ]
  },
  {
   "cell_type": "code",
   "execution_count": 5,
   "metadata": {},
   "outputs": [],
   "source": [
    "with open(\"ufo_3000_freq_by_country.json\", \"w\") as f:\n",
    "    json.dump(freq_by_country, f, sort_keys=True, indent=4)"
   ]
  },
  {
   "cell_type": "code",
   "execution_count": 6,
   "metadata": {},
   "outputs": [
    {
     "name": "stdout",
     "output_type": "stream",
     "text": [
      "['us', 'gb', 'ca', 'au', 'de', 'other']\n",
      "[2499, 60, 87, 12, 1, 341]\n"
     ]
    },
    {
     "data": {
      "image/png": "[encoded data removed]",
      "text/plain": [
       "<Figure size 720x720 with 1 Axes>"
      ]
     },
     "metadata": {},
     "output_type": "display_data"
    }
   ],
   "source": [
    "# https://pythonspot.com/matplotlib-bar-chart/\n",
    "\n",
    "import numpy as np\n",
    "import matplotlib.pyplot as plt\n",
    "\n",
    "print(list(freq_by_country.keys()))\n",
    "print(list(freq_by_country.values()))\n",
    " \n",
    "objects = list(freq_by_country.keys())\n",
    "y_pos = np.arange(len(objects))\n",
    "valueurs = list(freq_by_country.values())\n",
    "\n",
    "plt.figure(figsize=(10,10))\n",
    "plt.bar(y_pos, valueurs, align='center', alpha=0.5)\n",
    "plt.xticks(y_pos, objects)\n",
    "plt.ylabel('Nombre d\\'observations')\n",
    "plt.xlabel('Pays')\n",
    "plt.title('Histogramme pour la fréquence par pays (dataset de 3000)')\n",
    "plt.savefig('Figures/freq_par_pays_3000.jpg', quality=100)"
   ]
  },
  {
   "cell_type": "markdown",
   "metadata": {},
   "source": [
    "# Creating fred_by_us_state file"
   ]
  },
  {
   "cell_type": "code",
   "execution_count": 28,
   "metadata": {},
   "outputs": [],
   "source": [
    "with open(\"us_states.json\") as f:\n",
    "    us_states = json.load(f)"
   ]
  },
  {
   "cell_type": "code",
   "execution_count": 29,
   "metadata": {},
   "outputs": [],
   "source": [
    "freq_by_state = {}\n",
    "for s in us_states.values():\n",
    "    freq_by_state[s] = 0\n",
    "\n",
    "for elem in [e for e in data if e[\"country\"] == \"us\"]:\n",
    "    try:\n",
    "        freq_by_state[us_states[elem[\"state\"].upper()]] += 1\n",
    "    except:\n",
    "        print(elem,\"not in us_states_dict\")"
   ]
  },
  {
   "cell_type": "code",
   "execution_count": 39,
   "metadata": {},
   "outputs": [],
   "source": [
    "with open(\"us_states_geo.json\") as f:\n",
    "    us_states_geo = json.load(f)"
   ]
  },
  {
   "cell_type": "code",
   "execution_count": 40,
   "metadata": {},
   "outputs": [],
   "source": [
    "for i, elem in enumerate(us_states_geo[\"features\"]):\n",
    "    us_states_geo[\"features\"][i][\"properties\"][\"frequency\"] = freq_by_state[elem[\"properties\"][\"name\"]]"
   ]
  },
  {
   "cell_type": "code",
   "execution_count": 43,
   "metadata": {},
   "outputs": [],
   "source": [
    "with open(\"ufo_3000_freq_by_us_state.json\", \"w\") as f:\n",
    "    json.dump(us_states_geo, f, sort_keys=False, indent=4)"
   ]
  },
  {
   "cell_type": "code",
   "execution_count": 31,
   "metadata": {},
   "outputs": [
    {
     "data": {
      "text/plain": [
       "{'Alabama': 29,\n",
       " 'Alaska': 10,\n",
       " 'American Samoa': 0,\n",
       " 'Arizona': 90,\n",
       " 'Arkansas': 29,\n",
       " 'California': 289,\n",
       " 'Colorado': 73,\n",
       " 'Connecticut': 39,\n",
       " 'Delaware': 2,\n",
       " 'District of Columbia': 0,\n",
       " 'Federated States Of Micronesia': 0,\n",
       " 'Florida': 133,\n",
       " 'Georgia': 42,\n",
       " 'Guam': 0,\n",
       " 'Hawaii': 9,\n",
       " 'Idaho': 20,\n",
       " 'Illinois': 96,\n",
       " 'Indiana': 61,\n",
       " 'Iowa': 24,\n",
       " 'Kansas': 21,\n",
       " 'Kentucky': 32,\n",
       " 'Louisiana': 17,\n",
       " 'Maine': 20,\n",
       " 'Marshall Islands': 0,\n",
       " 'Maryland': 30,\n",
       " 'Massachusetts': 40,\n",
       " 'Michigan': 61,\n",
       " 'Minnesota': 39,\n",
       " 'Mississippi': 18,\n",
       " 'Missouri': 57,\n",
       " 'Montana': 18,\n",
       " 'Nebraska': 15,\n",
       " 'Nevada': 36,\n",
       " 'New Hampshire': 22,\n",
       " 'New Jersey': 35,\n",
       " 'New Mexico': 36,\n",
       " 'New York': 127,\n",
       " 'North Carolina': 76,\n",
       " 'North Dakota': 2,\n",
       " 'Northern Mariana Islands': 0,\n",
       " 'Ohio': 86,\n",
       " 'Oklahoma': 35,\n",
       " 'Oregon': 64,\n",
       " 'Palau': 0,\n",
       " 'Pennsylvania': 89,\n",
       " 'Puerto Rico': 1,\n",
       " 'Rhode Island': 8,\n",
       " 'South Carolina': 41,\n",
       " 'South Dakota': 5,\n",
       " 'Tennessee': 65,\n",
       " 'Texas': 169,\n",
       " 'Utah': 33,\n",
       " 'Vermont': 8,\n",
       " 'Virgin Islands': 0,\n",
       " 'Virginia': 47,\n",
       " 'Washington': 136,\n",
       " 'West Virginia': 17,\n",
       " 'Wisconsin': 41,\n",
       " 'Wyoming': 6}"
      ]
     },
     "execution_count": 31,
     "metadata": {},
     "output_type": "execute_result"
    }
   ],
   "source": [
    "freq_by_state"
   ]
  },
  {
   "cell_type": "code",
   "execution_count": 32,
   "metadata": {},
   "outputs": [],
   "source": [
    "with open(\"us_states_geo.json\") as f:\n",
    "    us_states_geo = json.load(f)"
   ]
  },
  {
   "cell_type": "code",
   "execution_count": 33,
   "metadata": {},
   "outputs": [
    {
     "name": "stdout",
     "output_type": "stream",
     "text": [
      "dict not in geo\n",
      "Guam\n",
      "Federated States Of Micronesia\n",
      "American Samoa\n",
      "Palau\n",
      "Northern Mariana Islands\n",
      "Marshall Islands\n",
      "Virgin Islands\n",
      "\n",
      "geo not in dict\n"
     ]
    }
   ],
   "source": [
    "list_states_geo = set([e[\"properties\"][\"name\"] for e in us_states_geo[\"features\"]])\n",
    "list_states_dict = set(us_states.values())\n",
    "\n",
    "print(\"dict not in geo\")\n",
    "for e in list_states_dict:\n",
    "    if e not in list_states_geo:\n",
    "        print(e)\n",
    "    \n",
    "print()\n",
    "print(\"geo not in dict\")\n",
    "for e in list_states_geo:\n",
    "    if e not in list_states_dict:\n",
    "        print(e)"
   ]
  },
  {
   "cell_type": "code",
   "execution_count": null,
   "metadata": {},
   "outputs": [],
   "source": [
    "us_states_geo"
   ]
  }
 ],
 "metadata": {
  "kernelspec": {
   "display_name": "Python 3",
   "language": "python",
   "name": "python3"
  },
  "language_info": {
   "codemirror_mode": {
    "name": "ipython",
    "version": 3
   },
   "file_extension": ".py",
   "mimetype": "text/x-python",
   "name": "python",
   "nbconvert_exporter": "python",
   "pygments_lexer": "ipython3",
   "version": "3.7.3"
  }
 },
 "nbformat": 4,
 "nbformat_minor": 2
}
